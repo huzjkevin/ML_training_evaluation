{
 "cells": [
  {
   "cell_type": "code",
   "execution_count": 15,
   "metadata": {},
   "outputs": [],
   "source": [
    "import glob\n",
    "import json\n",
    "import numpy as np\n",
    "\n",
    "logs_dir = \"/home/jia/git/dr-spaam-experimental/dr_spaam/logs\""
   ]
  },
  {
   "cell_type": "markdown",
   "metadata": {},
   "source": [
    "# Cutout parameter selection"
   ]
  },
  {
   "cell_type": "code",
   "execution_count": null,
   "metadata": {},
   "outputs": [],
   "source": [
    "\"\"\"\n",
    "\\begin{table}[ht]\n",
    "\\centering\n",
    "\\caption{Validation set scores of DROW ($T$\\,=\\,$1$) detectors with different cutout parameters.}\n",
    "\\begin{tabular}{c c c c c c c c }\n",
    "\\toprule\n",
    "$\\widebar{W}$&  $D$ & $N$ &~& AP$_{0.3}$ & AP$_{0.5}$ & peak-F1 & EER\\\\ \n",
    "\\midrule\n",
    "1.66 & 2.0 & 48 && 41.9 & 43.0 & 48.1 & 47.6\\\\\n",
    "1.66 & 1.0 & 48 && 42.6 & 43.4 & 49.2 & 48.6\\\\\n",
    "1.0\\phantom{0} & 2.0 & 48 && 43.6 & 44.8 & 50.7 & 50.4\\\\\n",
    "1.0\\phantom{0} & 1.0 & 48 && 44.0 & 45.0 & 50.3 & 50.2\\\\\n",
    "\\arrayrulecolor{lightgray}\\midrule[0.25pt]\\arrayrulecolor{black}\n",
    "1.0\\phantom{0} & 1.0 & 32 && 42.0 & 43.0 & 49.1 & 48.8\\\\\n",
    "1.0\\phantom{0} & 1.0 & 40 && 43.1 & 44.1 & 50.0 & 49.6\\\\\n",
    "1.0\\phantom{0} & 1.0 & 48 && 44.0 & 45.0 & 50.3 & 50.2\\\\\n",
    "1.0\\phantom{0} & 1.0 & 56 && \\textbf{45.1} & \\textbf{46.3} & \\textbf{50.9} & \\textbf{50.8}\\\\\n",
    "1.0\\phantom{0} & 1.0 & 64 && 43.8 & 45.1 & 50.7 & 50.4\\\\\n",
    "\\bottomrule\n",
    "\\end{tabular}\n",
    "\\label{table:cutout}\n",
    "\"\"\""
   ]
  },
  {
   "cell_type": "code",
   "execution_count": 44,
   "metadata": {
    "tags": []
   },
   "outputs": [
    {
     "output_type": "stream",
     "name": "stdout",
     "text": "1.66 & 2.0 & 48 && 39.6 & 40.9 & 47.4 & 46.7\\\\\n1.66 & 1.0 & 48 && 40.2 & 41.3 & 48.3 & 47.9\\\\\n1.0\\phantom{0} & 2.0 & 48 && 43.2 & 44.5 & 50.3 & 50.1\\\\\n1.0\\phantom{0} & 1.0 & 48 && 43.0 & 44.4 & 50.2 & 50.0\\\\\n1.0\\phantom{0} & 1.0 & 32 && 40.7 & 42.1 & 48.6 & 48.5\\\\\n1.0\\phantom{0} & 1.0 & 40 && 42.2 & 43.5 & 48.6 & 48.4\\\\\n1.0\\phantom{0} & 1.0 & 48 && 43.0 & 44.4 & 50.2 & 50.0\\\\\n1.0\\phantom{0} & 1.0 & 56 && 43.9 & 45.4 & 50.7 & 50.5\\\\\n1.0\\phantom{0} & 1.0 & 64 && 43.4 & 45.2 & 50.3 & 50.2\\\\\n"
    }
   ],
   "source": [
    "exps_list = [\"20200710_132539_cutout_w1.66d2.0p48\",\n",
    "             \"20200710_121843_cutout_w1.66d1.0p48\",\n",
    "             \"20200710_121040_cutout_w1.0d2.0p48\",\n",
    "             \"20200710_095803_cutout_w1.0d1.0p48\",\n",
    "             \"20200710_092249_cutout_w1.0d1.0p32\",\n",
    "             \"20200710_095828_cutout_w1.0d1.0p40\",\n",
    "             \"20200710_095803_cutout_w1.0d1.0p48\",\n",
    "             \"20200710_112425_cutout_w1.0d1.0p56\",\n",
    "             \"20200710_112009_cutout_w1.0d1.0p64\"]\n",
    "\n",
    "exps_dict_list = []\n",
    "exps_wdp_list = []\n",
    "for exp_ in exps_list:\n",
    "    val_json = os.path.join(logs_dir, exp_, \"output\", \"VAL_e40s88360.json\")\n",
    "    with open(val_json, \"r\") as fp:\n",
    "        exps_dict_list.append(json.load(fp))\n",
    "    \n",
    "    exp_cfg = exp_.split(\"_\")[-1]\n",
    "    exp_cfg = exp_cfg.split(\"w\")[-1].split(\"d\")\n",
    "    exp_w = float(exp_cfg[0])\n",
    "    exp_cfg = exp_cfg[-1].split(\"p\")\n",
    "    exp_d = float(exp_cfg[0])\n",
    "    exp_p = int(exp_cfg[1])\n",
    "    exps_wdp_list.append((exp_w, exp_d, exp_p))\n",
    "\n",
    "latex_lines = []\n",
    "for wdp, exp_dict in zip(exps_wdp_list, exps_dict_list):\n",
    "    w, d, p = wdp\n",
    "    w = str(w) if not w == 1.0 else \"1.0\\\\phantom{0}\"\n",
    "    d = str(d)\n",
    "    p = str(p)\n",
    "    ap_03 = \"%.1f\" % (float(exp_dict['ap_r0.3']) * 100)\n",
    "    ap_05 = \"%.1f\" % (float(exp_dict['ap_r0.5']) * 100)\n",
    "    f1_05 = \"%.1f\" % (float(exp_dict['peak_f1_r0.5']) * 100)\n",
    "    eer_05 = \"%.1f\" % (float(exp_dict['eer_r0.5']) * 100)\n",
    "    line = f\"{w} & {d} & {p} && {ap_03} & {ap_05} & {f1_05} & {eer_05}\\\\\\\\\"\n",
    "    print(line)"
   ]
  },
  {
   "cell_type": "markdown",
   "metadata": {},
   "source": [
    "# SPAAM parameter selection"
   ]
  },
  {
   "cell_type": "code",
   "execution_count": null,
   "metadata": {},
   "outputs": [],
   "source": [
    "\"\"\"\n",
    "\\caption{Validation set scores of \\ourmethod~with different window sizes and update rates.} \n",
    "\\begin{tabular}{ c c c c c c c }\n",
    "\\toprule\n",
    "$W$&  $\\alpha$\\ &~& AP$_{0.3}$ & AP$_{0.5}$ & peak-F1 & EER\\\\ \n",
    "\\midrule\n",
    "7 & 0.3           && 45.0 & 46.2 & 52.5 & 52.5\\\\\n",
    "7 & 0.5           && 49.5 & 50.9 & 54.6 & 53.6\\\\\n",
    "7 & 0.8           && 46.8 & 48.3 & 54.1 & 54.0\\\\\n",
    "\\arrayrulecolor{lightgray}\\midrule[0.25pt]\\arrayrulecolor{black}\n",
    "11 & 0.3                     && 51.5 & 53.0 & 56.8 & 56.4\\\\\n",
    "11 & 0.5 && \\textbf{52.7} & \\textbf{53.9} & \\textbf{57.3} & \\textbf{57.3}\\\\\n",
    "11 & 0.8                     && 47.4 & 48.7 & 53.6 & 53.2\\\\\n",
    "\\arrayrulecolor{lightgray}\\midrule[0.25pt]\\arrayrulecolor{black}\n",
    "15 & 0.3                     && 51.5 & 52.8 & 56.1 & 55.3\\\\\n",
    "15 & 0.5                     && 50.7 & 52.1 & 55.0 & 54.7\\\\\n",
    "15 & 0.8                     && 47.0 & 48.2 & 53.1 & 53.0\\\\\n",
    "\\bottomrule\n",
    "\\end{tabular}\n",
    "\\label{table:spatial_similarity}\n",
    "\\end{table}\n",
    "\"\"\""
   ]
  },
  {
   "cell_type": "code",
   "execution_count": 45,
   "metadata": {
    "tags": []
   },
   "outputs": [
    {
     "output_type": "stream",
     "name": "stdout",
     "text": "7 & 0.3 && 67.3 & 69.8 & 66.9 & 66.0\\\\\n7 & 0.5 && 67.3 & 69.3 & 67.0 & 65.5\\\\\n7 & 0.8 && 66.9 & 68.5 & 66.2 & 66.0\\\\\n11 & 0.3 && 69.0 & 71.6 & 68.0 & 66.0\\\\\n11 & 0.5 && 68.0 & 69.9 & 67.3 & 66.0\\\\\n11 & 0.8 && 67.1 & 68.9 & 67.6 & 66.4\\\\\n15 & 0.3 && 67.0 & 70.1 & 67.8 & 66.1\\\\\n15 & 0.5 && 67.9 & 69.5 & 67.5 & 66.6\\\\\n15 & 0.8 && 64.3 & 66.2 & 64.6 & 63.8\\\\\n"
    }
   ],
   "source": [
    "exps_list = [\"20200710_212005_spaam_w7alp0.3\",\n",
    "             \"20200710_213033_spaam_w7alp0.5\",\n",
    "             \"20200710_213032_spaam_w7alp0.8\",\n",
    "             \"20200710_181635_spaam_w11alp0.3\",\n",
    "             \"20200710_182143_spaam_w11alp0.5\",\n",
    "             \"20200710_191214_spaam_w11alp0.8\",\n",
    "             \"20200710_193825_spaam_w15alp0.3\",\n",
    "             \"20200710_205428_spaam_w15alp0.5\",\n",
    "             \"20200710_210525_spaam_w15alp0.8\"]\n",
    "\n",
    "exps_dict_list = []\n",
    "exps_cfg_list = []\n",
    "for exp_ in exps_list:\n",
    "    val_json = os.path.join(logs_dir, exp_, \"output\", \"TEST_e40s88360.json\")\n",
    "    with open(val_json, \"r\") as fp:\n",
    "        exps_dict_list.append(json.load(fp))\n",
    "    \n",
    "    exp_cfg = exp_.split(\"_\")[-1]\n",
    "    exp_cfg = exp_cfg.split(\"w\")[-1].split(\"alp\")\n",
    "    exp_w = int(exp_cfg[0])\n",
    "    exp_alp = float(exp_cfg[1])\n",
    "    exps_cfg_list.append((exp_w, exp_alp))\n",
    "\n",
    "latex_lines = []\n",
    "for w_alp, exp_dict in zip(exps_cfg_list, exps_dict_list):\n",
    "    w, alp = w_alp\n",
    "    w = str(w) \n",
    "    alp = \"%.1f\" % alp\n",
    "    ap_03 = \"%.1f\" % (float(exp_dict['ap_r0.3']) * 100)\n",
    "    ap_05 = \"%.1f\" % (float(exp_dict['ap_r0.5']) * 100)\n",
    "    f1_05 = \"%.1f\" % (float(exp_dict['peak_f1_r0.5']) * 100)\n",
    "    eer_05 = \"%.1f\" % (float(exp_dict['eer_r0.5']) * 100)\n",
    "    line = f\"{w} & {alp} && {ap_03} & {ap_05} & {f1_05} & {eer_05}\\\\\\\\\"\n",
    "    print(line)"
   ]
  },
  {
   "cell_type": "markdown",
   "metadata": {},
   "source": [
    "# Inference time"
   ]
  },
  {
   "cell_type": "code",
   "execution_count": null,
   "metadata": {},
   "outputs": [],
   "source": [
    "\"\"\"\n",
    "\\begin{table}[ht]\n",
    "\\centering\n",
    "\\caption{Computation time (in milliseconds) and frame rate of different setups on two different mobile platforms.}\n",
    "\\setlength{\\tabcolsep}{2.5pt}\n",
    "\\begin{tabularx}{\\linewidth}{l c cYYYccYYY }\n",
    "\\toprule\n",
    "& & \\multicolumn{4}{c }{Laptop (RTX 2080)} && \\multicolumn{4}{c}{Jetson AGX} \\\\\n",
    "\\cmidrule{3-6} \\cmidrule{8-11}\n",
    " Method & AP$_{0.5}$    & cutout & net & vote & FPS && cutout & net & vote & FPS\\\\ \n",
    "\\midrule\n",
    "DROW ($T$\\,=\\,$1$) & 66.6  & \\phantom{0}7.0 & 1.4 & \\phantom{0}6.1 & 68.6  && \\phantom{0}63.3 & 4.8 & 29.3 & 10.4\\\\\n",
    "DROW ($T$\\,=\\,$5$) & 67.9  &           34.3 & 1.5 &           19.2 & 18.2  && 306.3           & 5.1 & 78.1 & \\phantom{0}2.6\\\\\n",
    "\\ourmethod & \\textbf{70.3} & \\phantom{0}7.0 & 2.0 & \\phantom{0}7.7 & 59.8  && \\phantom{0}62.0 & 6.9 & 33.6 & \\phantom{0}9.7\\\\\n",
    "\\midrule\n",
    "\\ourmethod $\\ast$ & \\textbf{71.8} & \\phantom{0}1.1 & 1.9 & \\phantom{0}8.5 & 87.2  && \\phantom{0}4.2 & 7.7 & 32.4 & 22.6\\\\\n",
    "\\bottomrule\n",
    "\\end{tabularx}\n",
    "\\label{table:inference_time}\n",
    "\\end{table}\n",
    "\"\"\""
   ]
  },
  {
   "cell_type": "markdown",
   "metadata": {},
   "source": [
    "# Main results"
   ]
  },
  {
   "cell_type": "code",
   "execution_count": null,
   "metadata": {},
   "outputs": [],
   "source": [
    "\"\"\"\n",
    "\\begin{table}[t]\n",
    "\\centering\n",
    "\\caption{Detection accuracy on the test set with 0.5$m$ association threshold. Note that \\ourmethod~and our re-trained baseline DROW do not use odometry information.}\n",
    "\\begin{tabular}{ p{3.6cm} c c c c }\n",
    "\\toprule\n",
    "Method && AP$_{0.5}$ & peak-F1 & EER \\\\ \n",
    "\\midrule\n",
    "ROS leg detector~\\cite{Pantofaru10ROS} && 23.2 & 41.7 & 41.0\\\\\n",
    "Arras~(re-trained)~\\cite{Arras07ICRA} && 47.6 & 50.3 & 50.1\\\\\n",
    "Leigh~(re-trained)~\\cite{Leigh15ICRA} && 57.2 & 64.3 & 62.3\\\\\n",
    "DROW ($T=1$) in~\\cite{Beyer18RAL} && 59.4 & 61.5 & 61.4\\\\\n",
    "DROW ($T=5$) in~\\cite{Beyer18RAL} && 67.0 & 65.9 & 64.9\\\\\n",
    "DROW ($T=5$, + odom.) in~\\cite{Beyer18RAL} && 68.1 & 68.1 & \\textbf{67.2}\\\\\n",
    "\\arrayrulecolor{lightgray}\\midrule[0.25pt]\\arrayrulecolor{black}\n",
    "DROW ($T=1$) baseline && 66.6 & 66.1 & 65.2\\\\\n",
    "DROW ($T=5$) baseline && 67.9 & 65.1 & 63.8\\\\\n",
    "DR-AM (w/o spatial attention) && 66.3 & 65.2 & 64.0\\\\\n",
    "DR-SPA (w/o auto-regression) && 68.0 & 67.0 & 66.1\\\\\n",
    "\\ourmethod && \\textbf{70.3} & \\textbf{68.5} & \\textbf{67.2}\\\\\n",
    "\\bottomrule\n",
    "\\end{tabular}\n",
    "\\label{table:results}\n",
    "\\end{table}\n",
    "\"\"\""
   ]
  },
  {
   "cell_type": "markdown",
   "metadata": {},
   "source": [
    "# Temporal stride"
   ]
  },
  {
   "cell_type": "code",
   "execution_count": null,
   "metadata": {},
   "outputs": [],
   "source": [
    "\"\"\"\n",
    "\\begin{table}[h]\n",
    "\\centering\n",
    "\\caption{Test set results with different temporal strides.} \n",
    "\\setlength{\\tabcolsep}{3pt}\n",
    "\\begin{tabularx}{\\linewidth}{c  cYYYY cYYYY}\n",
    "\\toprule\n",
    "&& \\multicolumn{4}{c}{DROW ($T$\\,=\\,$5$)} && \\multicolumn{4}{c}{\\ourmethod} \\\\\n",
    "\\cmidrule{3-6} \\cmidrule{8-11} \n",
    "Stride && AP$_{0.3}$ & AP$_{0.5}$ & p-F1 & EER && AP$_{0.3}$ & AP$_{0.5}$ & p-F1 & EER\\\\\n",
    "\\midrule\n",
    "1 && \\textbf{66.6} & \\textbf{67.9} & \\textbf{65.1} & \\textbf{63.8} && 68.5 & 70.3 & 68.5 & 67.2\\\\\n",
    "2 && 59.3 & 60.5 & 60.1 & 59.3 && 69.3 & 70.8 & \\textbf{68.8} & \\textbf{67.6}\\\\\n",
    "3 && 54.3 & 55.8 & 56.8 & 56.7 && \\textbf{69.4} & \\textbf{70.9} & 68.1 & 66.5\\\\\n",
    "4 && 53.6 & 55.1 & 56.0 & 55.7 && 67.7 & 69.1 & 66.4 & 64.9\\\\\n",
    "5 && 51.5 & 53.4 & 54.6 & 54.3 && 66.4 & 67.7 & 65.5 & 64.5\\\\\n",
    "\\bottomrule\n",
    "\\end{tabularx}\n",
    "\\label{table:temporal_spatial_stride}\n",
    "\\end{table}\n",
    "\"\"\""
   ]
  }
 ],
 "metadata": {
  "language_info": {
   "codemirror_mode": {
    "name": "ipython",
    "version": 3
   },
   "file_extension": ".py",
   "mimetype": "text/x-python",
   "name": "python",
   "nbconvert_exporter": "python",
   "pygments_lexer": "ipython3",
   "version": "3.8.3-final"
  },
  "orig_nbformat": 2,
  "kernelspec": {
   "name": "python38364bitdrspaamconda618834ac1e704f4fb1c599b9eb36dee0",
   "display_name": "Python 3.8.3 64-bit ('dr-spaam': conda)"
  }
 },
 "nbformat": 4,
 "nbformat_minor": 2
}